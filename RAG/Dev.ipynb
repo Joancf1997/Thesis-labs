{
 "cells": [
  {
   "cell_type": "code",
   "execution_count": 24,
   "metadata": {},
   "outputs": [],
   "source": [
    "import os\n",
    "import requests\n",
    "import numpy as np\n",
    "import pandas as pd\n",
    "from zipfile import ZipFile"
   ]
  },
  {
   "cell_type": "code",
   "execution_count": null,
   "metadata": {},
   "outputs": [
    {
     "data": {
      "text/html": [
       "<div>\n",
       "<style scoped>\n",
       "    .dataframe tbody tr th:only-of-type {\n",
       "        vertical-align: middle;\n",
       "    }\n",
       "\n",
       "    .dataframe tbody tr th {\n",
       "        vertical-align: top;\n",
       "    }\n",
       "\n",
       "    .dataframe thead th {\n",
       "        text-align: right;\n",
       "    }\n",
       "</style>\n",
       "<table border=\"1\" class=\"dataframe\">\n",
       "  <thead>\n",
       "    <tr style=\"text-align: right;\">\n",
       "      <th></th>\n",
       "      <th>news_id</th>\n",
       "      <th>title</th>\n",
       "      <th>abstract</th>\n",
       "    </tr>\n",
       "  </thead>\n",
       "  <tbody>\n",
       "    <tr>\n",
       "      <th>0</th>\n",
       "      <td>N55528</td>\n",
       "      <td>The Brands Queen Elizabeth, Prince Charles, an...</td>\n",
       "      <td>Shop the notebooks, jackets, and more that the...</td>\n",
       "    </tr>\n",
       "    <tr>\n",
       "      <th>1</th>\n",
       "      <td>N19639</td>\n",
       "      <td>50 Worst Habits For Belly Fat</td>\n",
       "      <td>These seemingly harmless habits are holding yo...</td>\n",
       "    </tr>\n",
       "    <tr>\n",
       "      <th>2</th>\n",
       "      <td>N61837</td>\n",
       "      <td>The Cost of Trump's Aid Freeze in the Trenches...</td>\n",
       "      <td>Lt. Ivan Molchanets peeked over a parapet of s...</td>\n",
       "    </tr>\n",
       "    <tr>\n",
       "      <th>3</th>\n",
       "      <td>N53526</td>\n",
       "      <td>I Was An NBA Wife. Here's How It Affected My M...</td>\n",
       "      <td>I felt like I was a fraud, and being an NBA wi...</td>\n",
       "    </tr>\n",
       "    <tr>\n",
       "      <th>4</th>\n",
       "      <td>N38324</td>\n",
       "      <td>How to Get Rid of Skin Tags, According to a De...</td>\n",
       "      <td>They seem harmless, but there's a very good re...</td>\n",
       "    </tr>\n",
       "  </tbody>\n",
       "</table>\n",
       "</div>"
      ],
      "text/plain": [
       "  news_id                                              title  \\\n",
       "0  N55528  The Brands Queen Elizabeth, Prince Charles, an...   \n",
       "1  N19639                      50 Worst Habits For Belly Fat   \n",
       "2  N61837  The Cost of Trump's Aid Freeze in the Trenches...   \n",
       "3  N53526  I Was An NBA Wife. Here's How It Affected My M...   \n",
       "4  N38324  How to Get Rid of Skin Tags, According to a De...   \n",
       "\n",
       "                                            abstract  \n",
       "0  Shop the notebooks, jackets, and more that the...  \n",
       "1  These seemingly harmless habits are holding yo...  \n",
       "2  Lt. Ivan Molchanets peeked over a parapet of s...  \n",
       "3  I felt like I was a fraud, and being an NBA wi...  \n",
       "4  They seem harmless, but there's a very good re...  "
      ]
     },
     "execution_count": 6,
     "metadata": {},
     "output_type": "execute_result"
    }
   ],
   "source": [
    "# Load the news articles \n",
    "path = \"/Users/josecastanedaforno/Library/CloudStorage/OneDrive-ScientificNetworkSouthTyrol/Thesis/Datasets/MIND/SmallMind/MINDSmall_train/news.tsv\"\n",
    "df = pd.read_csv(path, sep='\\t', header=None, names=[\"news_id\", \"category\", \"sub_category\", \"title\", \"abstract\", \"url\", \"title_entities\", \"abstract_entities\"])\n",
    "df = df[[\"news_id\", \"title\", \"abstract\"]]\n",
    "df.head()"
   ]
  },
  {
   "cell_type": "code",
   "execution_count": null,
   "metadata": {},
   "outputs": [
    {
     "name": "stderr",
     "output_type": "stream",
     "text": [
      "/opt/anaconda3/envs/thesis-lab/lib/python3.10/site-packages/tqdm/auto.py:21: TqdmWarning: IProgress not found. Please update jupyter and ipywidgets. See https://ipywidgets.readthedocs.io/en/stable/user_install.html\n",
      "  from .autonotebook import tqdm as notebook_tqdm\n"
     ]
    }
   ],
   "source": [
    "# Generate the news embeddings - https://huggingface.co/sentence-transformers/all-MiniLM-L6-v2\n",
    "from transformers import AutoModel, AutoTokenizer\n",
    "import torch\n",
    "import faiss\n",
    "\n",
    "MODEL_NAME = \"sentence-transformers/all-MiniLM-L6-v2\"\n",
    "tokenizer = AutoTokenizer.from_pretrained(MODEL_NAME)\n",
    "model = AutoModel.from_pretrained(MODEL_NAME)"
   ]
  },
  {
   "cell_type": "code",
   "execution_count": 12,
   "metadata": {},
   "outputs": [],
   "source": [
    "def get_embedding(text):\n",
    "    inputs = tokenizer(text, return_tensors=\"pt\", truncation=True, padding=True, max_length=128)\n",
    "    with torch.no_grad():\n",
    "        output = model(**inputs).last_hidden_state.mean(dim=1)\n",
    "    return output.squeeze().numpy()\n",
    "\n",
    "embeddings = [get_embedding(str(row[\"title\"]) + \" \" + str(row[\"abstract\"])) for _, row in df.iterrows()]"
   ]
  },
  {
   "cell_type": "code",
   "execution_count": 22,
   "metadata": {},
   "outputs": [
    {
     "name": "stdout",
     "output_type": "stream",
     "text": [
      "51282\n",
      "384\n"
     ]
    }
   ],
   "source": [
    "print(len(embeddings))      # Number of news\n",
    "print(len(embeddings[1]))   # Embedding dimensions"
   ]
  },
  {
   "cell_type": "code",
   "execution_count": 25,
   "metadata": {},
   "outputs": [],
   "source": [
    "# Store embeddings in database FAISS\n",
    "#  https://ai.meta.com/tools/faiss/ - https://github.com/facebookresearch/faiss/wiki/Getting-started\n",
    "\n",
    "dimensions = embeddings[0].shape[0]\n",
    "index = faiss.IndexFlatL2(dimensions)\n",
    "index.add(np.array(embeddings))"
   ]
  },
  {
   "cell_type": "code",
   "execution_count": 26,
   "metadata": {},
   "outputs": [],
   "source": [
    "# Use the embeddings to extract actual the most relevant news to the user query.\n",
    "def retrieve_news(query, topk=3):\n",
    "  query_embedding = get_embedding(query).reshape(1,-1)\n",
    "  _, indices = index.search(query_embedding,topk)\n",
    "  result = df.iloc[indices[0]]\n",
    "  return result"
   ]
  },
  {
   "cell_type": "code",
   "execution_count": 29,
   "metadata": {},
   "outputs": [],
   "source": [
    "# Use the LLM to interact with the user.\n",
    "import ollama\n",
    "\n",
    "def generate_response(query):\n",
    "  retrieved_docs = retrieve_news(query)\n",
    "  context = \"\\n\".join(retrieved_docs[\"title\"] + \": \" + retrieved_docs[\"abstract\"])\n",
    "  prompt =  f\"You are a helpful assistant. Answer the question based on the following retrieved news articles:\\n{context}\\n\\nQuestion: {query}\"\n",
    "  print(prompt)\n",
    "  response = ollama.chat(model='mistral', messages=[{\"role\": \"user\", \"content\": prompt}])\n",
    "  return response['message']['content']\n"
   ]
  },
  {
   "cell_type": "code",
   "execution_count": 33,
   "metadata": {},
   "outputs": [
    {
     "name": "stdout",
     "output_type": "stream",
     "text": [
      "You are a helpful assistant. Answer the question based on the following retrieved news articles:\n",
      "The Daily Twitter: 31 October 2019: News, links to articles, updates and more from DC area writers and national sports journalists\n",
      "The Daily Twitter: 9 November 2019: News, links to articles, updates and more from DC area writers and national sports journalists\n",
      "The Daily Twitter: 12 November 2019: News, links to articles, updates and more from DC area writers and national sports journalists\n",
      "\n",
      "Question: what are the latest sports news?\n",
      " Based on the provided sources, The Daily Twitter posts from October 31st, November 9th, and November 12th, here are some of the latest sports news related to the DC area and national sports:\n",
      "\n",
      "* On October 31st, there was news about the Washington Nationals' players visiting the White House. The Nationals won the World Series in 2019, and their visit to the White House took place on that date.\n",
      "* Also on October 31st, a reporter shared a tweet from a DC-based sports journalist about a potential trade between the Washington Redskins and New York Giants involving star wide receiver Terry McLaurin. The details of the possible trade were not specified in the tweet.\n",
      "* On November 9th, there was news about the NBA's Washington Wizards hiring former player Wes Unseld Jr. as their new head coach. Unseld Jr. previously served as an assistant coach for the Phoenix Suns and Golden State Warriors.\n",
      "* Also on November 9th, a sports journalist shared a tweet about the possibility of the Baltimore Ravens' running back Mark Ingram II signing a contract extension with the team. The details of the potential deal were not disclosed in the tweet.\n",
      "* On November 12th, there was news about the Washington Capitals signing forward Richard Panik to a one-year contract. Panik had previously played for the Chicago Blackhawks and Arizona Coyotes.\n",
      "* Additionally, on November 12th, a sports journalist tweeted that the NFL's Washington Redskins were considering rebranding their team name following increasing pressure from Native American groups and other stakeholders. The possibility of changing the team's name has been a topic of discussion for several years, but recent events have prompted renewed calls for action.\n"
     ]
    }
   ],
   "source": [
    "# Test the system \n",
    "query = \"what are the latest sports news?\"\n",
    "response = generate_response(query)\n",
    "print(response)"
   ]
  },
  {
   "cell_type": "code",
   "execution_count": null,
   "metadata": {},
   "outputs": [
    {
     "name": "stdout",
     "output_type": "stream",
     "text": [
      "1. NBA Finals: Milwaukee Bucks defeat Phoenix Suns in Game 6 to win the NBA championship. Giannis Antetokounmpo was named Finals MVP.\n",
      "\n",
      "2. Tokyo Olympics: USA wins gold in women's soccer with a 1-0 victory over Canada, marking their seventh consecutive Olympic gold medal. Simone Biles withdraws from several events due to mental health concerns but later returns and wins bronze in the balance beam final.\n",
      "\n",
      "3. UEFA Euro 2020: Italy defeats England on penalties (3-2) to win the UEFA European Football Championship, marking their second triumph in the tournament.\n",
      "\n",
      "4. Wimbledon Tennis Championships: Novak Djokovic wins his sixth men's singles title at Wimbledon, defeating Matteo Berrettini in straight sets. Ashleigh Barty defeats Karolína Plíšková to win her first Wimbledon title and second Grand Slam singles title overall.\n",
      "\n",
      "5. Formula One: Max Verstappen wins the Hungarian Grand Prix, extending his lead atop the drivers' standings over Lewis Hamilton.\n",
      "\n",
      "6. Premier League: Manchester City clinches their third Premier League title in four seasons with a 3-2 victory over Aston Villa on the final day of the season.\n",
      "\n",
      "7. MLB: The San Diego Padres acquire star slugger Juan Soto and pitcher Josh Bell from the Washington Nationals in a blockbuster trade. The New York Yankees' Aaron Judge hits his Major League-leading 40th home run of the season.\n"
     ]
    }
   ],
   "source": [
    "# Reporse without context - outdated\n",
    "print(ollama.chat(model='mistral', messages=[{\"role\": \"user\", \"content\": \"what are the latest sports news?\"}])['message']['content'])\n"
   ]
  },
  {
   "cell_type": "markdown",
   "metadata": {},
   "source": [
    "## Use the entity on the title to have a more 'context aware'"
   ]
  },
  {
   "cell_type": "code",
   "execution_count": 37,
   "metadata": {},
   "outputs": [
    {
     "data": {
      "text/html": [
       "<div>\n",
       "<style scoped>\n",
       "    .dataframe tbody tr th:only-of-type {\n",
       "        vertical-align: middle;\n",
       "    }\n",
       "\n",
       "    .dataframe tbody tr th {\n",
       "        vertical-align: top;\n",
       "    }\n",
       "\n",
       "    .dataframe thead th {\n",
       "        text-align: right;\n",
       "    }\n",
       "</style>\n",
       "<table border=\"1\" class=\"dataframe\">\n",
       "  <thead>\n",
       "    <tr style=\"text-align: right;\">\n",
       "      <th></th>\n",
       "      <th>news_id</th>\n",
       "      <th>title</th>\n",
       "      <th>abstract</th>\n",
       "      <th>title_entities</th>\n",
       "    </tr>\n",
       "  </thead>\n",
       "  <tbody>\n",
       "    <tr>\n",
       "      <th>0</th>\n",
       "      <td>N55528</td>\n",
       "      <td>The Brands Queen Elizabeth, Prince Charles, an...</td>\n",
       "      <td>Shop the notebooks, jackets, and more that the...</td>\n",
       "      <td>[{\"Label\": \"Prince Philip, Duke of Edinburgh\",...</td>\n",
       "    </tr>\n",
       "    <tr>\n",
       "      <th>1</th>\n",
       "      <td>N19639</td>\n",
       "      <td>50 Worst Habits For Belly Fat</td>\n",
       "      <td>These seemingly harmless habits are holding yo...</td>\n",
       "      <td>[{\"Label\": \"Adipose tissue\", \"Type\": \"C\", \"Wik...</td>\n",
       "    </tr>\n",
       "    <tr>\n",
       "      <th>2</th>\n",
       "      <td>N61837</td>\n",
       "      <td>The Cost of Trump's Aid Freeze in the Trenches...</td>\n",
       "      <td>Lt. Ivan Molchanets peeked over a parapet of s...</td>\n",
       "      <td>[]</td>\n",
       "    </tr>\n",
       "    <tr>\n",
       "      <th>3</th>\n",
       "      <td>N53526</td>\n",
       "      <td>I Was An NBA Wife. Here's How It Affected My M...</td>\n",
       "      <td>I felt like I was a fraud, and being an NBA wi...</td>\n",
       "      <td>[]</td>\n",
       "    </tr>\n",
       "    <tr>\n",
       "      <th>4</th>\n",
       "      <td>N38324</td>\n",
       "      <td>How to Get Rid of Skin Tags, According to a De...</td>\n",
       "      <td>They seem harmless, but there's a very good re...</td>\n",
       "      <td>[{\"Label\": \"Skin tag\", \"Type\": \"C\", \"WikidataI...</td>\n",
       "    </tr>\n",
       "  </tbody>\n",
       "</table>\n",
       "</div>"
      ],
      "text/plain": [
       "  news_id                                              title  \\\n",
       "0  N55528  The Brands Queen Elizabeth, Prince Charles, an...   \n",
       "1  N19639                      50 Worst Habits For Belly Fat   \n",
       "2  N61837  The Cost of Trump's Aid Freeze in the Trenches...   \n",
       "3  N53526  I Was An NBA Wife. Here's How It Affected My M...   \n",
       "4  N38324  How to Get Rid of Skin Tags, According to a De...   \n",
       "\n",
       "                                            abstract  \\\n",
       "0  Shop the notebooks, jackets, and more that the...   \n",
       "1  These seemingly harmless habits are holding yo...   \n",
       "2  Lt. Ivan Molchanets peeked over a parapet of s...   \n",
       "3  I felt like I was a fraud, and being an NBA wi...   \n",
       "4  They seem harmless, but there's a very good re...   \n",
       "\n",
       "                                      title_entities  \n",
       "0  [{\"Label\": \"Prince Philip, Duke of Edinburgh\",...  \n",
       "1  [{\"Label\": \"Adipose tissue\", \"Type\": \"C\", \"Wik...  \n",
       "2                                                 []  \n",
       "3                                                 []  \n",
       "4  [{\"Label\": \"Skin tag\", \"Type\": \"C\", \"WikidataI...  "
      ]
     },
     "execution_count": 37,
     "metadata": {},
     "output_type": "execute_result"
    }
   ],
   "source": [
    "path = \"/Users/josecastanedaforno/Library/CloudStorage/OneDrive-ScientificNetworkSouthTyrol/Thesis/Datasets/MIND/SmallMind/MINDSmall_train/news.tsv\"\n",
    "df2 = pd.read_csv(path, sep='\\t', header=None, names=[\"news_id\", \"category\", \"sub_category\", \"title\", \"abstract\", \"url\", \"title_entities\", \"abstract_entities\"])\n",
    "df2 = df2[[\"news_id\", \"title\", \"abstract\", \"title_entities\"]]\n",
    "df2.head()"
   ]
  },
  {
   "cell_type": "code",
   "execution_count": null,
   "metadata": {},
   "outputs": [],
   "source": [
    "import json\n",
    "\n",
    "def extract_entity_text(entity_json):\n",
    "  try:\n",
    "    entities = json.loads(entity_json.replace(\"'\", '\"'))\n",
    "    return \" \".join([e[\"Label\"] for e in entities])\n",
    "  except:\n",
    "    return \"\""
   ]
  }
 ],
 "metadata": {
  "kernelspec": {
   "display_name": "thesis-lab",
   "language": "python",
   "name": "python3"
  },
  "language_info": {
   "codemirror_mode": {
    "name": "ipython",
    "version": 3
   },
   "file_extension": ".py",
   "mimetype": "text/x-python",
   "name": "python",
   "nbconvert_exporter": "python",
   "pygments_lexer": "ipython3",
   "version": "3.10.16"
  }
 },
 "nbformat": 4,
 "nbformat_minor": 2
}

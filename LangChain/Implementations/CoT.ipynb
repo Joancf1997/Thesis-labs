{
 "cells": [
  {
   "cell_type": "code",
   "execution_count": 2,
   "id": "b7ad2ebd",
   "metadata": {},
   "outputs": [
    {
     "name": "stdout",
     "output_type": "stream",
     "text": [
      "=== CoT Response ===\n",
      "I'd be happy to help you solve this problem step by step. Here's the solution:\n",
      "\n",
      "Step 1: We are given that the train travels a distance of 60 miles.\n",
      "Step 2: We are also given that it takes 1.5 hours for the train to travel this distance.\n",
      "\n",
      "To find the average speed, we can use the formula:\n",
      "\n",
      "Average Speed = Total Distance / Time Taken\n",
      "\n",
      "In this case, we have:\n",
      "Total Distance = 60 miles\n",
      "Time Taken = 1.5 hours\n",
      "\n",
      "Step 3: Now, let's plug in these values into the formula:\n",
      "Average Speed = 60 miles / 1.5 hours\n",
      "Average Speed = 40 miles per hour\n",
      "\n",
      "Therefore, the average speed of the train is 40 miles per hour.\n"
     ]
    }
   ],
   "source": [
    "from langchain_community.llms import Ollama\n",
    "from langchain.chains import LLMChain\n",
    "from langchain.prompts import PromptTemplate\n",
    "\n",
    "# Load llama3 model from Ollama\n",
    "llm = Ollama(model=\"llama3.2\")\n",
    "\n",
    "# CoT Prompt Template\n",
    "prompt = PromptTemplate(\n",
    "    input_variables=[\"question\"],\n",
    "    template=\"\"\"\n",
    "You are a helpful AI assistant who solves problems step by step.\n",
    "\n",
    "Question: {question}\n",
    "\n",
    "Let's think step by step:\n",
    "\"\"\"\n",
    ")\n",
    "\n",
    "# Chain-of-Thought Chain\n",
    "cot_chain = LLMChain(llm=llm, prompt=prompt)\n",
    "\n",
    "# Try a math word problem\n",
    "question = \"If a train travels 60 miles in 1.5 hours, what is its average speed in miles per hour?\"\n",
    "\n",
    "response = cot_chain.run(question)\n",
    "\n",
    "print(\"=== CoT Response ===\")\n",
    "print(response)\n"
   ]
  },
  {
   "cell_type": "markdown",
   "id": "80d49d57",
   "metadata": {},
   "source": [
    "## In context examples"
   ]
  },
  {
   "cell_type": "code",
   "execution_count": 3,
   "id": "562fe56b",
   "metadata": {},
   "outputs": [
    {
     "name": "stdout",
     "output_type": "stream",
     "text": [
      "=== CoT Answer ===\n",
      "To find the probability of picking a blue ball at random from the bag, let's think step by step:\n",
      "\n",
      "- Total number of balls = 3 red + 4 blue + 5 green = 12 balls.\n",
      "- Number of blue balls = 4.\n",
      "\n",
      "Probability of picking a blue ball = (Number of blue balls) / (Total number of balls)\n",
      "= 4/12\n",
      "= 1/3\n",
      "= 0.33 (rounded to two decimal places)\n",
      "\n",
      "So, the probability of picking a blue ball at random from the bag is 1/3 or approximately 0.33.\n"
     ]
    }
   ],
   "source": [
    "from langchain_community.llms import Ollama\n",
    "from langchain.chains import LLMChain\n",
    "from langchain.prompts import PromptTemplate\n",
    "\n",
    "llm = Ollama(model=\"llama3.2\")  \n",
    "\n",
    "cot_template = \"\"\"\n",
    "You are a helpful and smart AI that solves math and logic problems by reasoning step by step.\n",
    "\n",
    "Here are some examples:\n",
    "\n",
    "Example 1:\n",
    "Question: If a pencil costs 2 dollars and a notebook costs 5 dollars, what is the total cost of 3 pencils and 2 notebooks?\n",
    "Let's think step by step:\n",
    "- A pencil costs $2. 3 pencils cost 3 * 2 = $6.\n",
    "- A notebook costs $5. 2 notebooks cost 2 * 5 = $10.\n",
    "- Total cost = $6 + $10 = $16.\n",
    "Answer: $16\n",
    "\n",
    "Example 2:\n",
    "Question: A car travels 100 miles in 2 hours. Then it travels another 150 miles in 3 hours. What is the average speed over the whole trip?\n",
    "Let's think step by step:\n",
    "- Total distance = 100 + 150 = 250 miles.\n",
    "- Total time = 2 + 3 = 5 hours.\n",
    "- Average speed = 250 / 5 = 50 miles per hour.\n",
    "Answer: 50 mph\n",
    "\n",
    "Example 3:\n",
    "Question: John has twice as many apples as Mary. Together, they have 18 apples. How many apples does John have?\n",
    "Let's think step by step:\n",
    "- Let Mary have x apples. Then John has 2x apples.\n",
    "- Total apples = x + 2x = 3x = 18\n",
    "- Solving: 3x = 18 → x = 6\n",
    "- John has 2x = 12 apples.\n",
    "Answer: 12\n",
    "\n",
    "Now solve the following:\n",
    "\n",
    "Question: {question}\n",
    "Let's think step by step:\n",
    "\"\"\"\n",
    "\n",
    "prompt = PromptTemplate(input_variables=[\"question\"], template=cot_template)\n",
    "\n",
    "chain = LLMChain(llm=llm, prompt=prompt)\n",
    "\n",
    "question = \"If a bag has 3 red balls, 4 blue balls, and 5 green balls, what is the probability of picking a blue ball at random?\"\n",
    "response = chain.run(question)\n",
    "\n",
    "print(\"=== CoT Answer ===\")\n",
    "print(response)\n"
   ]
  },
  {
   "cell_type": "code",
   "execution_count": null,
   "id": "3d1a83fb",
   "metadata": {},
   "outputs": [],
   "source": []
  }
 ],
 "metadata": {
  "kernelspec": {
   "display_name": "thesisPlayground",
   "language": "python",
   "name": "python3"
  },
  "language_info": {
   "codemirror_mode": {
    "name": "ipython",
    "version": 3
   },
   "file_extension": ".py",
   "mimetype": "text/x-python",
   "name": "python",
   "nbconvert_exporter": "python",
   "pygments_lexer": "ipython3",
   "version": "3.10.16"
  }
 },
 "nbformat": 4,
 "nbformat_minor": 5
}

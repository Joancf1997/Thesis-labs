{
 "cells": [
  {
   "cell_type": "markdown",
   "id": "0fe13262",
   "metadata": {},
   "source": [
    "https://github.com/AI-Chef/HuggingGPT/blob/main/hugginggpt/server/awesome_chat.py#L638\n"
   ]
  },
  {
   "cell_type": "markdown",
   "id": "ef257525",
   "metadata": {},
   "source": []
  }
 ],
 "metadata": {
  "language_info": {
   "name": "python"
  }
 },
 "nbformat": 4,
 "nbformat_minor": 5
}
